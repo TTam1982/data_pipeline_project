{
 "cells": [
  {
   "cell_type": "code",
   "execution_count": 3,
   "id": "8c54957e-908b-4c38-8f90-3afa60fa5d09",
   "metadata": {},
   "outputs": [
    {
     "name": "stdout",
     "output_type": "stream",
     "text": [
      "+--------------------+--------------------+-----------+-------------------+----------+------------+-------------+--------------------+--------------+------------------+------------+-----------------------+----------------------------+-----------------------+-------------------------+----------------------+-------------------+------------+---------+\n",
      "|             Loan ID|         Customer ID|Loan Status|Current Loan Amount|      Term|Credit Score|Annual Income|Years in current job|Home Ownership|           Purpose|Monthly Debt|Years of Credit History|Months since last delinquent|Number of Open Accounts|Number of Credit Problems|Current Credit Balance|Maximum Open Credit|Bankruptcies|Tax Liens|\n",
      "+--------------------+--------------------+-----------+-------------------+----------+------------+-------------+--------------------+--------------+------------------+------------+-----------------------+----------------------------+-----------------------+-------------------------+----------------------+-------------------+------------+---------+\n",
      "|14dd8831-6af5-400...|981165ec-3274-42f...| Fully Paid|             445412|Short Term|         709|      1167493|             8 years| Home Mortgage| Home Improvements|     5214.74|                   17.2|                          NA|                      6|                        1|                228190|             416746|           1|        0|\n",
      "|4771cc26-131a-45d...|2de017a3-2e01-49c...| Fully Paid|             262328|Short Term|        NULL|         NULL|           10+ years| Home Mortgage|Debt Consolidation|    33295.98|                   21.1|                           8|                     35|                        0|                229976|             850784|           0|        0|\n",
      "|4eed4e6a-aa2f-4c9...|5efb2b2b-bf11-4df...| Fully Paid|           99999999|Short Term|         741|      2231892|             8 years|      Own Home|Debt Consolidation|    29200.53|                   14.9|                          29|                     18|                        1|                297996|             750090|           0|        0|\n",
      "|77598f7b-32e7-4e3...|e777faab-98ae-45a...| Fully Paid|             347666| Long Term|         721|       806949|             3 years|      Own Home|Debt Consolidation|      8741.9|                   12.0|                          NA|                      9|                        0|                256329|             386958|           0|        0|\n",
      "|d4062e70-befa-499...|81536ad9-5ccf-4eb...| Fully Paid|             176220|Short Term|        NULL|         NULL|             5 years|          Rent|Debt Consolidation|     20639.7|                    6.1|                          NA|                     15|                        0|                253460|             427174|           0|        0|\n",
      "|89d8cb0c-e5c2-4f5...|4ffe99d3-7f2a-44d...|Charged Off|             206602|Short Term|        7290|       896857|           10+ years| Home Mortgage|Debt Consolidation|    16367.74|                   17.3|                          NA|                      6|                        0|                215308|             272448|           0|        0|\n",
      "|273581de-85d8-433...|90a75dde-34d5-419...| Fully Paid|             217646|Short Term|         730|      1184194|            < 1 year| Home Mortgage|Debt Consolidation|    10855.08|                   19.6|                          10|                     13|                        1|                122170|             272052|           1|        0|\n",
      "|db0dc6e1-77ee-482...|018973c9-e316-495...|Charged Off|             648714| Long Term|        NULL|         NULL|            < 1 year| Home Mortgage|         Buy House|    14806.13|                    8.2|                           8|                     15|                        0|                193306|             864204|           0|        0|\n",
      "|8af915d9-9e91-44a...|af534dea-d27e-4fd...| Fully Paid|             548746|Short Term|         678|      2559110|             2 years|          Rent|Debt Consolidation|    18660.28|                   22.6|                          33|                      4|                        0|                437171|             555038|           0|        0|\n",
      "|0b1c4e3d-bd97-45c...|235c4a43-dadf-483...| Fully Paid|             215952|Short Term|         739|      1454735|            < 1 year|          Rent|Debt Consolidation|    39277.75|                   13.9|                          NA|                     20|                        0|                669560|            1021460|           0|        0|\n",
      "|32c2e48f-1ba8-45e...|0de7bcdb-ebf4-460...| Fully Paid|           99999999|Short Term|         728|       714628|             3 years|          Rent|Debt Consolidation|    11851.06|                   16.0|                          76|                     16|                        0|                203965|             289784|           0|        0|\n",
      "|fa096848-6143-490...|aa0a6a22-a95e-48e...| Fully Paid|             541970|Short Term|        NULL|         NULL|           10+ years| Home Mortgage| Home Improvements|    23568.55|                   23.2|                          NA|                     23|                        0|                 60705|            1634468|           0|        0|\n",
      "|403d7235-0284-4bb...|11581f68-de3c-49d...| Fully Paid|           99999999|Short Term|         740|       776188|            < 1 year|      Own Home|Debt Consolidation|    11578.22|                    8.5|                          25|                      6|                        0|                134083|             220220|           0|        0|\n",
      "|01d878ae-efa2-41e...|900c9191-2c20-468...| Fully Paid|           99999999|Short Term|         743|      1560907|             4 years|          Rent|Debt Consolidation|    17560.37|                   13.3|                          NA|                     10|                        1|                225549|             496474|           1|        0|\n",
      "|2e841c8f-3dc1-464...|2ac05980-7848-469...| Fully Paid|             234124|Short Term|         727|       693234|           10+ years|          Rent|Debt Consolidation|    14211.24|                   24.7|                          46|                     10|                        1|                 28291|             107052|           1|        0|\n",
      "|7cbaa3fa-16fd-434...|3ec886e7-f15d-4c3...| Fully Paid|             449020| Long Term|        NULL|         NULL|             9 years|      Own Home|Debt Consolidation|    18904.81|                   19.4|                          NA|                      8|                        0|                334533|             428956|           0|        0|\n",
      "|c9a16a9d-8801-443...|abb4c446-08ea-49f...|Charged Off|             653004| Long Term|        NULL|         NULL|             7 years| Home Mortgage|Debt Consolidation|    14537.09|                   20.5|                          NA|                      9|                        0|                302309|             413754|           0|        0|\n",
      "|24e8c8bd-d10b-4da...|967e8733-7189-49b...| Fully Paid|             666204| Long Term|         723|      1821967|           10+ years| Home Mortgage|Debt Consolidation|    17612.24|                   22.0|                          34|                     15|                        0|                813694|            2004618|           0|        0|\n",
      "|c6be21f0-80b1-46b...|c67b2cb5-9f91-4bc...| Fully Paid|              66396|Short Term|        NULL|         NULL|           10+ years|          Rent|Debt Consolidation|     9898.81|                   27.1|                          NA|                     23|                        1|                  9728|             402380|           1|        0|\n",
      "|41f7dd8d-bfdd-43d...|422f9b72-5041-407...| Fully Paid|             390390|Short Term|         747|      1791738|             8 years| Home Mortgage| Home Improvements|     2478.55|                   22.7|                          NA|                      6|                        0|                121182|             801812|           0|        0|\n",
      "+--------------------+--------------------+-----------+-------------------+----------+------------+-------------+--------------------+--------------+------------------+------------+-----------------------+----------------------------+-----------------------+-------------------------+----------------------+-------------------+------------+---------+\n",
      "only showing top 20 rows\n",
      "\n"
     ]
    },
    {
     "ename": "ValueError",
     "evalue": "Could not interpret value `A` for `x`. An entry with this name does not appear in `data`.",
     "output_type": "error",
     "traceback": [
      "\u001b[0;31m---------------------------------------------------------------------------\u001b[0m",
      "\u001b[0;31mValueError\u001b[0m                                Traceback (most recent call last)",
      "Cell \u001b[0;32mIn[3], line 53\u001b[0m\n\u001b[1;32m     51\u001b[0m sns\u001b[38;5;241m.\u001b[39mset(style\u001b[38;5;241m=\u001b[39m\u001b[38;5;124m\"\u001b[39m\u001b[38;5;124mwhitegrid\u001b[39m\u001b[38;5;124m\"\u001b[39m)\n\u001b[1;32m     52\u001b[0m plt\u001b[38;5;241m.\u001b[39mfigure(figsize\u001b[38;5;241m=\u001b[39m(\u001b[38;5;241m10\u001b[39m, \u001b[38;5;241m6\u001b[39m))\n\u001b[0;32m---> 53\u001b[0m \u001b[43msns\u001b[49m\u001b[38;5;241;43m.\u001b[39;49m\u001b[43mbarplot\u001b[49m\u001b[43m(\u001b[49m\u001b[43mx\u001b[49m\u001b[38;5;241;43m=\u001b[39;49m\u001b[38;5;124;43m'\u001b[39;49m\u001b[38;5;124;43mA\u001b[39;49m\u001b[38;5;124;43m'\u001b[39;49m\u001b[43m,\u001b[49m\u001b[43m \u001b[49m\u001b[43my\u001b[49m\u001b[38;5;241;43m=\u001b[39;49m\u001b[38;5;124;43m'\u001b[39;49m\u001b[38;5;124;43mcount\u001b[39;49m\u001b[38;5;124;43m'\u001b[39;49m\u001b[43m,\u001b[49m\u001b[43m \u001b[49m\u001b[43mdata\u001b[49m\u001b[38;5;241;43m=\u001b[39;49m\u001b[43mpandas_df\u001b[49m\u001b[43m)\u001b[49m\n\u001b[1;32m     54\u001b[0m plt\u001b[38;5;241m.\u001b[39mtitle(\u001b[38;5;124m\"\u001b[39m\u001b[38;5;124mSố lượng theo A\u001b[39m\u001b[38;5;124m\"\u001b[39m)\n\u001b[1;32m     55\u001b[0m plt\u001b[38;5;241m.\u001b[39mshow()\n",
      "File \u001b[0;32m~/Documents/Programming/Data Engineer/data_pipeline_project/venv/lib/python3.12/site-packages/seaborn/categorical.py:2341\u001b[0m, in \u001b[0;36mbarplot\u001b[0;34m(data, x, y, hue, order, hue_order, estimator, errorbar, n_boot, seed, units, weights, orient, color, palette, saturation, fill, hue_norm, width, dodge, gap, log_scale, native_scale, formatter, legend, capsize, err_kws, ci, errcolor, errwidth, ax, **kwargs)\u001b[0m\n\u001b[1;32m   2338\u001b[0m \u001b[38;5;28;01mif\u001b[39;00m estimator \u001b[38;5;129;01mis\u001b[39;00m \u001b[38;5;28mlen\u001b[39m:\n\u001b[1;32m   2339\u001b[0m     estimator \u001b[38;5;241m=\u001b[39m \u001b[38;5;124m\"\u001b[39m\u001b[38;5;124msize\u001b[39m\u001b[38;5;124m\"\u001b[39m\n\u001b[0;32m-> 2341\u001b[0m p \u001b[38;5;241m=\u001b[39m \u001b[43m_CategoricalAggPlotter\u001b[49m\u001b[43m(\u001b[49m\n\u001b[1;32m   2342\u001b[0m \u001b[43m    \u001b[49m\u001b[43mdata\u001b[49m\u001b[38;5;241;43m=\u001b[39;49m\u001b[43mdata\u001b[49m\u001b[43m,\u001b[49m\n\u001b[1;32m   2343\u001b[0m \u001b[43m    \u001b[49m\u001b[43mvariables\u001b[49m\u001b[38;5;241;43m=\u001b[39;49m\u001b[38;5;28;43mdict\u001b[39;49m\u001b[43m(\u001b[49m\u001b[43mx\u001b[49m\u001b[38;5;241;43m=\u001b[39;49m\u001b[43mx\u001b[49m\u001b[43m,\u001b[49m\u001b[43m \u001b[49m\u001b[43my\u001b[49m\u001b[38;5;241;43m=\u001b[39;49m\u001b[43my\u001b[49m\u001b[43m,\u001b[49m\u001b[43m \u001b[49m\u001b[43mhue\u001b[49m\u001b[38;5;241;43m=\u001b[39;49m\u001b[43mhue\u001b[49m\u001b[43m,\u001b[49m\u001b[43m \u001b[49m\u001b[43munits\u001b[49m\u001b[38;5;241;43m=\u001b[39;49m\u001b[43munits\u001b[49m\u001b[43m,\u001b[49m\u001b[43m \u001b[49m\u001b[43mweight\u001b[49m\u001b[38;5;241;43m=\u001b[39;49m\u001b[43mweights\u001b[49m\u001b[43m)\u001b[49m\u001b[43m,\u001b[49m\n\u001b[1;32m   2344\u001b[0m \u001b[43m    \u001b[49m\u001b[43morder\u001b[49m\u001b[38;5;241;43m=\u001b[39;49m\u001b[43morder\u001b[49m\u001b[43m,\u001b[49m\n\u001b[1;32m   2345\u001b[0m \u001b[43m    \u001b[49m\u001b[43morient\u001b[49m\u001b[38;5;241;43m=\u001b[39;49m\u001b[43morient\u001b[49m\u001b[43m,\u001b[49m\n\u001b[1;32m   2346\u001b[0m \u001b[43m    \u001b[49m\u001b[43mcolor\u001b[49m\u001b[38;5;241;43m=\u001b[39;49m\u001b[43mcolor\u001b[49m\u001b[43m,\u001b[49m\n\u001b[1;32m   2347\u001b[0m \u001b[43m    \u001b[49m\u001b[43mlegend\u001b[49m\u001b[38;5;241;43m=\u001b[39;49m\u001b[43mlegend\u001b[49m\u001b[43m,\u001b[49m\n\u001b[1;32m   2348\u001b[0m \u001b[43m\u001b[49m\u001b[43m)\u001b[49m\n\u001b[1;32m   2350\u001b[0m \u001b[38;5;28;01mif\u001b[39;00m ax \u001b[38;5;129;01mis\u001b[39;00m \u001b[38;5;28;01mNone\u001b[39;00m:\n\u001b[1;32m   2351\u001b[0m     ax \u001b[38;5;241m=\u001b[39m plt\u001b[38;5;241m.\u001b[39mgca()\n",
      "File \u001b[0;32m~/Documents/Programming/Data Engineer/data_pipeline_project/venv/lib/python3.12/site-packages/seaborn/categorical.py:67\u001b[0m, in \u001b[0;36m_CategoricalPlotter.__init__\u001b[0;34m(self, data, variables, order, orient, require_numeric, color, legend)\u001b[0m\n\u001b[1;32m     56\u001b[0m \u001b[38;5;28;01mdef\u001b[39;00m \u001b[38;5;21m__init__\u001b[39m(\n\u001b[1;32m     57\u001b[0m     \u001b[38;5;28mself\u001b[39m,\n\u001b[1;32m     58\u001b[0m     data\u001b[38;5;241m=\u001b[39m\u001b[38;5;28;01mNone\u001b[39;00m,\n\u001b[0;32m   (...)\u001b[0m\n\u001b[1;32m     64\u001b[0m     legend\u001b[38;5;241m=\u001b[39m\u001b[38;5;124m\"\u001b[39m\u001b[38;5;124mauto\u001b[39m\u001b[38;5;124m\"\u001b[39m,\n\u001b[1;32m     65\u001b[0m ):\n\u001b[0;32m---> 67\u001b[0m     \u001b[38;5;28;43msuper\u001b[39;49m\u001b[43m(\u001b[49m\u001b[43m)\u001b[49m\u001b[38;5;241;43m.\u001b[39;49m\u001b[38;5;21;43m__init__\u001b[39;49m\u001b[43m(\u001b[49m\u001b[43mdata\u001b[49m\u001b[38;5;241;43m=\u001b[39;49m\u001b[43mdata\u001b[49m\u001b[43m,\u001b[49m\u001b[43m \u001b[49m\u001b[43mvariables\u001b[49m\u001b[38;5;241;43m=\u001b[39;49m\u001b[43mvariables\u001b[49m\u001b[43m)\u001b[49m\n\u001b[1;32m     69\u001b[0m     \u001b[38;5;66;03m# This method takes care of some bookkeeping that is necessary because the\u001b[39;00m\n\u001b[1;32m     70\u001b[0m     \u001b[38;5;66;03m# original categorical plots (prior to the 2021 refactor) had some rules that\u001b[39;00m\n\u001b[1;32m     71\u001b[0m     \u001b[38;5;66;03m# don't fit exactly into VectorPlotter logic. It may be wise to have a second\u001b[39;00m\n\u001b[0;32m   (...)\u001b[0m\n\u001b[1;32m     76\u001b[0m     \u001b[38;5;66;03m# default VectorPlotter rules. If we do decide to make orient part of the\u001b[39;00m\n\u001b[1;32m     77\u001b[0m     \u001b[38;5;66;03m# _base variable assignment, we'll want to figure out how to express that.\u001b[39;00m\n\u001b[1;32m     78\u001b[0m     \u001b[38;5;28;01mif\u001b[39;00m \u001b[38;5;28mself\u001b[39m\u001b[38;5;241m.\u001b[39minput_format \u001b[38;5;241m==\u001b[39m \u001b[38;5;124m\"\u001b[39m\u001b[38;5;124mwide\u001b[39m\u001b[38;5;124m\"\u001b[39m \u001b[38;5;129;01mand\u001b[39;00m orient \u001b[38;5;129;01min\u001b[39;00m [\u001b[38;5;124m\"\u001b[39m\u001b[38;5;124mh\u001b[39m\u001b[38;5;124m\"\u001b[39m, \u001b[38;5;124m\"\u001b[39m\u001b[38;5;124my\u001b[39m\u001b[38;5;124m\"\u001b[39m]:\n",
      "File \u001b[0;32m~/Documents/Programming/Data Engineer/data_pipeline_project/venv/lib/python3.12/site-packages/seaborn/_base.py:634\u001b[0m, in \u001b[0;36mVectorPlotter.__init__\u001b[0;34m(self, data, variables)\u001b[0m\n\u001b[1;32m    629\u001b[0m \u001b[38;5;66;03m# var_ordered is relevant only for categorical axis variables, and may\u001b[39;00m\n\u001b[1;32m    630\u001b[0m \u001b[38;5;66;03m# be better handled by an internal axis information object that tracks\u001b[39;00m\n\u001b[1;32m    631\u001b[0m \u001b[38;5;66;03m# such information and is set up by the scale_* methods. The analogous\u001b[39;00m\n\u001b[1;32m    632\u001b[0m \u001b[38;5;66;03m# information for numeric axes would be information about log scales.\u001b[39;00m\n\u001b[1;32m    633\u001b[0m \u001b[38;5;28mself\u001b[39m\u001b[38;5;241m.\u001b[39m_var_ordered \u001b[38;5;241m=\u001b[39m {\u001b[38;5;124m\"\u001b[39m\u001b[38;5;124mx\u001b[39m\u001b[38;5;124m\"\u001b[39m: \u001b[38;5;28;01mFalse\u001b[39;00m, \u001b[38;5;124m\"\u001b[39m\u001b[38;5;124my\u001b[39m\u001b[38;5;124m\"\u001b[39m: \u001b[38;5;28;01mFalse\u001b[39;00m}  \u001b[38;5;66;03m# alt., used DefaultDict\u001b[39;00m\n\u001b[0;32m--> 634\u001b[0m \u001b[38;5;28;43mself\u001b[39;49m\u001b[38;5;241;43m.\u001b[39;49m\u001b[43massign_variables\u001b[49m\u001b[43m(\u001b[49m\u001b[43mdata\u001b[49m\u001b[43m,\u001b[49m\u001b[43m \u001b[49m\u001b[43mvariables\u001b[49m\u001b[43m)\u001b[49m\n\u001b[1;32m    636\u001b[0m \u001b[38;5;66;03m# TODO Lots of tests assume that these are called to initialize the\u001b[39;00m\n\u001b[1;32m    637\u001b[0m \u001b[38;5;66;03m# mappings to default values on class initialization. I'd prefer to\u001b[39;00m\n\u001b[1;32m    638\u001b[0m \u001b[38;5;66;03m# move away from that and only have a mapping when explicitly called.\u001b[39;00m\n\u001b[1;32m    639\u001b[0m \u001b[38;5;28;01mfor\u001b[39;00m var \u001b[38;5;129;01min\u001b[39;00m [\u001b[38;5;124m\"\u001b[39m\u001b[38;5;124mhue\u001b[39m\u001b[38;5;124m\"\u001b[39m, \u001b[38;5;124m\"\u001b[39m\u001b[38;5;124msize\u001b[39m\u001b[38;5;124m\"\u001b[39m, \u001b[38;5;124m\"\u001b[39m\u001b[38;5;124mstyle\u001b[39m\u001b[38;5;124m\"\u001b[39m]:\n",
      "File \u001b[0;32m~/Documents/Programming/Data Engineer/data_pipeline_project/venv/lib/python3.12/site-packages/seaborn/_base.py:679\u001b[0m, in \u001b[0;36mVectorPlotter.assign_variables\u001b[0;34m(self, data, variables)\u001b[0m\n\u001b[1;32m    674\u001b[0m \u001b[38;5;28;01melse\u001b[39;00m:\n\u001b[1;32m    675\u001b[0m     \u001b[38;5;66;03m# When dealing with long-form input, use the newer PlotData\u001b[39;00m\n\u001b[1;32m    676\u001b[0m     \u001b[38;5;66;03m# object (internal but introduced for the objects interface)\u001b[39;00m\n\u001b[1;32m    677\u001b[0m     \u001b[38;5;66;03m# to centralize / standardize data consumption logic.\u001b[39;00m\n\u001b[1;32m    678\u001b[0m     \u001b[38;5;28mself\u001b[39m\u001b[38;5;241m.\u001b[39minput_format \u001b[38;5;241m=\u001b[39m \u001b[38;5;124m\"\u001b[39m\u001b[38;5;124mlong\u001b[39m\u001b[38;5;124m\"\u001b[39m\n\u001b[0;32m--> 679\u001b[0m     plot_data \u001b[38;5;241m=\u001b[39m \u001b[43mPlotData\u001b[49m\u001b[43m(\u001b[49m\u001b[43mdata\u001b[49m\u001b[43m,\u001b[49m\u001b[43m \u001b[49m\u001b[43mvariables\u001b[49m\u001b[43m)\u001b[49m\n\u001b[1;32m    680\u001b[0m     frame \u001b[38;5;241m=\u001b[39m plot_data\u001b[38;5;241m.\u001b[39mframe\n\u001b[1;32m    681\u001b[0m     names \u001b[38;5;241m=\u001b[39m plot_data\u001b[38;5;241m.\u001b[39mnames\n",
      "File \u001b[0;32m~/Documents/Programming/Data Engineer/data_pipeline_project/venv/lib/python3.12/site-packages/seaborn/_core/data.py:58\u001b[0m, in \u001b[0;36mPlotData.__init__\u001b[0;34m(self, data, variables)\u001b[0m\n\u001b[1;32m     51\u001b[0m \u001b[38;5;28;01mdef\u001b[39;00m \u001b[38;5;21m__init__\u001b[39m(\n\u001b[1;32m     52\u001b[0m     \u001b[38;5;28mself\u001b[39m,\n\u001b[1;32m     53\u001b[0m     data: DataSource,\n\u001b[1;32m     54\u001b[0m     variables: \u001b[38;5;28mdict\u001b[39m[\u001b[38;5;28mstr\u001b[39m, VariableSpec],\n\u001b[1;32m     55\u001b[0m ):\n\u001b[1;32m     57\u001b[0m     data \u001b[38;5;241m=\u001b[39m handle_data_source(data)\n\u001b[0;32m---> 58\u001b[0m     frame, names, ids \u001b[38;5;241m=\u001b[39m \u001b[38;5;28;43mself\u001b[39;49m\u001b[38;5;241;43m.\u001b[39;49m\u001b[43m_assign_variables\u001b[49m\u001b[43m(\u001b[49m\u001b[43mdata\u001b[49m\u001b[43m,\u001b[49m\u001b[43m \u001b[49m\u001b[43mvariables\u001b[49m\u001b[43m)\u001b[49m\n\u001b[1;32m     60\u001b[0m     \u001b[38;5;28mself\u001b[39m\u001b[38;5;241m.\u001b[39mframe \u001b[38;5;241m=\u001b[39m frame\n\u001b[1;32m     61\u001b[0m     \u001b[38;5;28mself\u001b[39m\u001b[38;5;241m.\u001b[39mnames \u001b[38;5;241m=\u001b[39m names\n",
      "File \u001b[0;32m~/Documents/Programming/Data Engineer/data_pipeline_project/venv/lib/python3.12/site-packages/seaborn/_core/data.py:232\u001b[0m, in \u001b[0;36mPlotData._assign_variables\u001b[0;34m(self, data, variables)\u001b[0m\n\u001b[1;32m    230\u001b[0m     \u001b[38;5;28;01melse\u001b[39;00m:\n\u001b[1;32m    231\u001b[0m         err \u001b[38;5;241m+\u001b[39m\u001b[38;5;241m=\u001b[39m \u001b[38;5;124m\"\u001b[39m\u001b[38;5;124mAn entry with this name does not appear in `data`.\u001b[39m\u001b[38;5;124m\"\u001b[39m\n\u001b[0;32m--> 232\u001b[0m     \u001b[38;5;28;01mraise\u001b[39;00m \u001b[38;5;167;01mValueError\u001b[39;00m(err)\n\u001b[1;32m    234\u001b[0m \u001b[38;5;28;01melse\u001b[39;00m:\n\u001b[1;32m    235\u001b[0m \n\u001b[1;32m    236\u001b[0m     \u001b[38;5;66;03m# Otherwise, assume the value somehow represents data\u001b[39;00m\n\u001b[1;32m    237\u001b[0m \n\u001b[1;32m    238\u001b[0m     \u001b[38;5;66;03m# Ignore empty data structures\u001b[39;00m\n\u001b[1;32m    239\u001b[0m     \u001b[38;5;28;01mif\u001b[39;00m \u001b[38;5;28misinstance\u001b[39m(val, Sized) \u001b[38;5;129;01mand\u001b[39;00m \u001b[38;5;28mlen\u001b[39m(val) \u001b[38;5;241m==\u001b[39m \u001b[38;5;241m0\u001b[39m:\n",
      "\u001b[0;31mValueError\u001b[0m: Could not interpret value `A` for `x`. An entry with this name does not appear in `data`."
     ]
    },
    {
     "data": {
      "text/plain": [
       "<Figure size 1000x600 with 0 Axes>"
      ]
     },
     "metadata": {},
     "output_type": "display_data"
    }
   ],
   "source": [
    "from pyspark.sql import SparkSession\n",
    "import os\n",
    "import pandas as pd\n",
    "import matplotlib.pyplot as plt\n",
    "import seaborn as sns\n",
    "\n",
    "# Đường dẫn đến tệp CSV\n",
    "SOURCE_CSV_FILE = os.path.abspath(\"./datasets/dataset-for-bank-loan-prediction.csv\")\n",
    "\n",
    "# Kiểm tra tệp có tồn tại không\n",
    "if not os.path.isfile(SOURCE_CSV_FILE):\n",
    "    raise FileNotFoundError(f\"Tệp {SOURCE_CSV_FILE} không tồn tại.\")\n",
    "\n",
    "# Khởi tạo Spark Session\n",
    "spark = SparkSession.builder \\\n",
    "    .appName(\"DataPipelineProject\") \\\n",
    "    .getOrCreate()\n",
    "\n",
    "# Đọc dữ liệu từ tệp CSV\n",
    "try:\n",
    "    df = spark.read.csv(SOURCE_CSV_FILE, header=True, inferSchema=True)\n",
    "except Exception as e:\n",
    "    print(\"Đã xảy ra lỗi khi đọc tệp CSV:\", e)\n",
    "    spark.stop()\n",
    "    raise e\n",
    "\n",
    "# Hiển thị vài dòng dữ liệu đầu tiên để kiểm tra\n",
    "df.show()\n",
    "\n",
    "# Lọc các hàng có giá trị không null trong các cột A, B và C\n",
    "df_filtered = df.filter(df[\"Credit Score\"].isNotNull() & df[\"Annual Income\"].isNotNull())\n",
    "\n",
    "# Nhóm dữ liệu theo cột A và tính tổng\n",
    "df_grouped = df_filtered.groupBy(\"Credit Score\").count()\n",
    "\n",
    "# Hiển thị DataFrame bằng Pandas\n",
    "pandas_df = df_grouped.toPandas()\n",
    "\n",
    "# Hiển thị DataFrame đã được định dạng\n",
    "styled_df = pandas_df.style.set_table_styles(\n",
    "    [{'selector': 'tr:hover',\n",
    "      'props': [('background-color', '#ffff99')]}]\n",
    ").set_properties(**{\n",
    "    'border': '1px solid black',\n",
    "    'padding': '10px'\n",
    "})\n",
    "\n",
    "styled_df\n",
    "\n",
    "# Vẽ biểu đồ thanh cho DataFrame đã nhóm\n",
    "sns.set(style=\"whitegrid\")\n",
    "plt.figure(figsize=(10, 6))\n",
    "sns.barplot(x='Credit Score', y='count', data=pandas_df)\n",
    "plt.title(\"Số lượng theo A\")\n",
    "plt.show()\n",
    "\n",
    "# Dừng Spark Session\n",
    "spark.stop()"
   ]
  },
  {
   "cell_type": "markdown",
   "id": "fbd33436-8a6f-425e-9f77-3678b2897cb4",
   "metadata": {},
   "source": []
  },
  {
   "cell_type": "code",
   "execution_count": null,
   "id": "c6ff9c56-ef18-4064-9190-be93da853008",
   "metadata": {},
   "outputs": [],
   "source": []
  }
 ],
 "metadata": {
  "kernelspec": {
   "display_name": "Python 3 (ipykernel)",
   "language": "python",
   "name": "python3"
  },
  "language_info": {
   "codemirror_mode": {
    "name": "ipython",
    "version": 3
   },
   "file_extension": ".py",
   "mimetype": "text/x-python",
   "name": "python",
   "nbconvert_exporter": "python",
   "pygments_lexer": "ipython3",
   "version": "3.12.4"
  }
 },
 "nbformat": 4,
 "nbformat_minor": 5
}

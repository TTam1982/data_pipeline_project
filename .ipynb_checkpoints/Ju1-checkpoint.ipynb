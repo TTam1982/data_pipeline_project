{
 "cells": [
  {
   "cell_type": "code",
   "execution_count": null,
   "metadata": {},
   "outputs": [],
   "source": [
    "import sqlite3\n",
    "import pandas as pd\n",
    "\n",
    "# Kết nối tới SQLite database\n",
    "conn = sqlite3.connect(\"data.db\")\n",
    "\n",
    "# Thực hiện truy vấn SQL và lưu kết quả vào DataFrame\n",
    "df = pd.read_sql_query(\"SELECT * FROM posts\", conn)\n",
    "\n",
    "# Hiển thị DataFrame\n",
    "df.head()\n"
   ]
  }
 ],
 "metadata": {
  "language_info": {
   "name": "python"
  }
 },
 "nbformat": 4,
 "nbformat_minor": 2
}
